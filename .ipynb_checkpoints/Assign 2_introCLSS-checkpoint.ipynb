{
 "cells": [
  {
   "cell_type": "code",
   "execution_count": 4,
   "id": "4ee2fab2",
   "metadata": {},
   "outputs": [],
   "source": [
    "import numpy as np\n",
    "import matplotlib.pyplot as plt\n",
    "import random\n",
    "from scipy.integrate import odeint"
   ]
  },
  {
   "cell_type": "markdown",
   "id": "0d3a6a14",
   "metadata": {},
   "source": [
    "## Problem 1: Gillespie’s Direct Algorithm and Stochastic Hallmarks\n"
   ]
  },
  {
   "cell_type": "markdown",
   "id": "ce9156a6",
   "metadata": {},
   "source": [
    "<b>1.1 Implementation of Gillespie's Direct Algorithm</b>"
   ]
  },
  {
   "cell_type": "code",
   "execution_count": 5,
   "id": "46459d87",
   "metadata": {},
   "outputs": [],
   "source": [
    "#list so new numbers will be appended\n",
    "S = [100] \n",
    "I = [1] \n",
    "R = [0]\n",
    "t = [0]  #new times will be updated"
   ]
  },
  {
   "cell_type": "code",
   "execution_count": 1,
   "id": "fc57a2ff",
   "metadata": {},
   "outputs": [],
   "source": [
    "#assigning initial values\n",
    "tend = 500\n",
    "beta = 0.04\n",
    "gamma = 0.01\n",
    "mu = 0.02\n",
    "Lisa = 1\n",
    "Sanjhana =1 "
   ]
  },
  {
   "cell_type": "code",
   "execution_count": 7,
   "id": "d2ee5f13",
   "metadata": {},
   "outputs": [],
   "source": [
    "while t[-1] < tend and (S[-1] + I[-1] >= 1): #once the most recent timestep greater than tend end\n",
    "    N = S[-1] + I[-1] + R[-1] #most recent values of S, I, R\n",
    "    \n",
    "    #All the events\n",
    "    birth_event = mu * N\n",
    "    transmission_event = beta*I[-1]*S[-1]/N\n",
    "    recovery_event = gamma*I[-1]\n",
    "    death_event1 = mu * S[-1]\n",
    "    death_event2 = mu * I[-1]\n",
    "    death_event3 = mu * R[-1]\n",
    "    \n",
    "    props = [transmission_event, recovery_event, birth_event, death_event1, death_event2, death_event3]\n",
    "    props_sum = sum(props)\n",
    "    \n",
    "    if props_sum != 0:\n",
    "        tau = np.random.exponential(scale=1/props_sum) #iteration from current time to next event timestep\n",
    "    else:\n",
    "        tau = 0\n",
    "        \n",
    "    rand_num = random.uniform(0,1) #which event gonna happen\n",
    "   \n",
    "    #Susceptibles to infected\n",
    "    if rand_num * props_sum <= props[0]:\n",
    "        S.append(S[-1] - 1)\n",
    "        I.append(I[-1] + 1)\n",
    "        R.append(R[-1])\n",
    "        t.append(t[-1] + tau)\n",
    "\n",
    "    #infected to recovered\n",
    "    elif rand_num * props_sum <= sum(props[:2]):\n",
    "        S.append(S[-1])\n",
    "        I.append(I[-1] - 1)\n",
    "        R.append(R[-1] + 1)\n",
    "        t.append(t[-1] + tau)\n",
    "\n",
    "    #birth event S --> S + 1\n",
    "    elif rand_num * props_sum <= sum(props[:3]):\n",
    "        S.append(S[-1] + 1)\n",
    "        I.append(I[-1])\n",
    "        R.append(R[-1])\n",
    "        t.append(t[-1] + tau)\n",
    "\n",
    "    #death event 1 S --> S - 1\n",
    "    elif rand_num * props_sum <= sum(props[:4]):\n",
    "        S.append(S[-1] - 1)\n",
    "        I.append(I[-1])\n",
    "        R.append(R[-1])\n",
    "        t.append(t[-1] + tau)\n",
    "\n",
    "    #death event 2 I --> I - 1 \n",
    "    elif rand_num * props_sum <= sum(props[:5]):\n",
    "        S.append(S[-1])\n",
    "        I.append(I[-1] - 1)\n",
    "        R.append(R[-1])\n",
    "        t.append(t[-1] + tau)\n",
    "\n",
    "    #death event 3 R --> R - 1\n",
    "    else:\n",
    "        S.append(S[-1])\n",
    "        I.append(I[-1])\n",
    "        R.append(R[-1] - 1)\n",
    "        t.append(t[-1] + tau)\n",
    "        "
   ]
  },
  {
   "cell_type": "code",
   "execution_count": 2,
   "id": "32ebe2a7",
   "metadata": {},
   "outputs": [
    {
     "ename": "NameError",
     "evalue": "name 'S' is not defined",
     "output_type": "error",
     "traceback": [
      "\u001b[1;31m---------------------------------------------------------------------------\u001b[0m",
      "\u001b[1;31mNameError\u001b[0m                                 Traceback (most recent call last)",
      "\u001b[1;32m~\\AppData\\Local\\Temp/ipykernel_9692/2176329271.py\u001b[0m in \u001b[0;36m<module>\u001b[1;34m\u001b[0m\n\u001b[1;32m----> 1\u001b[1;33m \u001b[0mprint\u001b[0m\u001b[1;33m(\u001b[0m\u001b[0mlen\u001b[0m\u001b[1;33m(\u001b[0m\u001b[0mS\u001b[0m\u001b[1;33m)\u001b[0m\u001b[1;33m)\u001b[0m\u001b[1;33m\u001b[0m\u001b[1;33m\u001b[0m\u001b[0m\n\u001b[0m\u001b[0;32m      2\u001b[0m \u001b[0mprint\u001b[0m\u001b[1;33m(\u001b[0m\u001b[0mlen\u001b[0m\u001b[1;33m(\u001b[0m\u001b[0mt\u001b[0m\u001b[1;33m)\u001b[0m\u001b[1;33m)\u001b[0m\u001b[1;33m\u001b[0m\u001b[1;33m\u001b[0m\u001b[0m\n",
      "\u001b[1;31mNameError\u001b[0m: name 'S' is not defined"
     ]
    }
   ],
   "source": [
    "print(len(S))\n",
    "print(len(t))"
   ]
  },
  {
   "cell_type": "code",
   "execution_count": 9,
   "id": "43752886",
   "metadata": {},
   "outputs": [
    {
     "data": {
      "image/png": "[encoded data removed]",
      "text/plain": [
       "<Figure size 720x432 with 1 Axes>"
      ]
     },
     "metadata": {
      "needs_background": "light"
     },
     "output_type": "display_data"
    }
   ],
   "source": [
    "# Plotting the results\n",
    "plt.figure(figsize=(10,6))\n",
    "plt.plot(t, S, label='Susceptible', color='blue')\n",
    "plt.plot(t, I, label='Infected', color='red')\n",
    "plt.plot(t, R, label='Recovered', color='green')\n",
    "plt.xlabel('Time')\n",
    "plt.ylabel('Number of Individuals')\n",
    "plt.title('SIR model using Gillespie Algorithm')\n",
    "plt.legend()\n",
    "plt.grid(True)\n",
    "plt.show()"
   ]
  },
  {
   "cell_type": "markdown",
   "id": "35f0df5b",
   "metadata": {},
   "source": [
    "<b>1.2 Variability and negative co-variance</b>"
   ]
  },
  {
   "cell_type": "code",
   "execution_count": 18,
   "id": "3594b94b",
   "metadata": {},
   "outputs": [],
   "source": [
    "#simulating multiple runs \n",
    "runs = 2\n",
    "\n",
    "#storing the result of the runs\n",
    "S_run = []\n",
    "I_run = []\n",
    "R_run = []\n"
   ]
  },
  {
   "cell_type": "code",
   "execution_count": null,
   "id": "bc47cbc7",
   "metadata": {},
   "outputs": [],
   "source": [
    "for i in range(runs):\n",
    "    S = [100]\n",
    "    I = [1]\n",
    "    R = [0]\n",
    "    t = [0]\n",
    "\n",
    "    tend = 500\n",
    "    beta = 0.04\n",
    "    gamma = 0.01\n",
    "    mu = 0.02\n",
    "\n",
    "    while t[-1] < tend and (S[-1] + I[-1] >= 1): #once the most recent timestep greater than tend end\n",
    "        N = S[-1] + I[-1] + R[-1]   #most recent values of S, I, R\n",
    "\n",
    "        # Calculating the rates of the events\n",
    "        props = [transmission_event, recovery_event, birth_event, death_event1, death_event2, death_event3]\n",
    "        props_sum = sum(props)\n",
    "\n",
    "        if props_sum != 0:\n",
    "            tau = np.random.exponential(scale=1 / props_sum)\n",
    "        else:\n",
    "            tau = 0\n",
    "            \n",
    "        rand_num = random.uniform(0, 1)\n",
    "        \n",
    "    # Append the S, I, R values to the lists\n",
    "    S_run.append(S)\n",
    "    I_run.append(I)\n",
    "    R_run.append(R)"
   ]
  },
  {
   "cell_type": "code",
   "execution_count": null,
   "id": "6164ce8d",
   "metadata": {},
   "outputs": [],
   "source": [
    "# Calculate mean and variance of S, I, R seperately \n",
    "mean_S = np.mean(S_run, axis=0)\n",
    "variance_S = np.var(S_run, axis=0)\n",
    "\n",
    "mean_I = np.mean(I_run, axis=0)\n",
    "variance_I = np.var(I_run, axis=0)\n",
    "\n",
    "mean_R = np.mean(R_run, axis=0)\n",
    "variance_R = np.var(R_run, axis=0)"
   ]
  },
  {
   "cell_type": "markdown",
   "id": "c12a46ca",
   "metadata": {},
   "source": [
    "## Problem 2: Spatial Models - Networks"
   ]
  },
  {
   "cell_type": "code",
   "execution_count": null,
   "id": "60f3f17c",
   "metadata": {},
   "outputs": [],
   "source": []
  }
 ],
 "metadata": {
  "kernelspec": {
   "display_name": "Python 3 (ipykernel)",
   "language": "python",
   "name": "python3"
  },
  "language_info": {
   "codemirror_mode": {
    "name": "ipython",
    "version": 3
   },
   "file_extension": ".py",
   "mimetype": "text/x-python",
   "name": "python",
   "nbconvert_exporter": "python",
   "pygments_lexer": "ipython3",
   "version": "3.9.7"
  }
 },
 "nbformat": 4,
 "nbformat_minor": 5
}
